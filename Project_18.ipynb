{
  "nbformat": 4,
  "nbformat_minor": 0,
  "metadata": {
    "colab": {
      "provenance": [],
      "authorship_tag": "ABX9TyOqQdgQaUkzImG96Yx31IZ5",
      "include_colab_link": true
    },
    "kernelspec": {
      "name": "python3",
      "display_name": "Python 3"
    },
    "language_info": {
      "name": "python"
    }
  },
  "cells": [
    {
      "cell_type": "markdown",
      "metadata": {
        "id": "view-in-github",
        "colab_type": "text"
      },
      "source": [
        "<a href=\"https://colab.research.google.com/github/Sp-supriya/HCDS-Projects/blob/main/Project_18.ipynb\" target=\"_parent\"><img src=\"https://colab.research.google.com/assets/colab-badge.svg\" alt=\"Open In Colab\"/></a>"
      ]
    },
    {
      "cell_type": "markdown",
      "source": [
        "# **Supply Chain Optimization Report**"
      ],
      "metadata": {
        "id": "ia1nlYjF8J9m"
      }
    },
    {
      "cell_type": "code",
      "execution_count": null,
      "metadata": {
        "colab": {
          "base_uri": "https://localhost:8080/"
        },
        "id": "IJdyIB_M7vNv",
        "outputId": "92d80f6d-901a-411c-8814-070d833f2d6c"
      },
      "outputs": [
        {
          "output_type": "stream",
          "name": "stdout",
          "text": [
            "Requirement already satisfied: dash in /usr/local/lib/python3.11/dist-packages (3.0.4)\n",
            "Requirement already satisfied: pandas in /usr/local/lib/python3.11/dist-packages (2.2.2)\n",
            "Requirement already satisfied: plotly in /usr/local/lib/python3.11/dist-packages (5.24.1)\n",
            "Requirement already satisfied: pyngrok in /usr/local/lib/python3.11/dist-packages (7.2.5)\n",
            "Requirement already satisfied: Flask<3.1,>=1.0.4 in /usr/local/lib/python3.11/dist-packages (from dash) (3.0.3)\n",
            "Requirement already satisfied: Werkzeug<3.1 in /usr/local/lib/python3.11/dist-packages (from dash) (3.0.6)\n",
            "Requirement already satisfied: importlib-metadata in /usr/local/lib/python3.11/dist-packages (from dash) (8.7.0)\n",
            "Requirement already satisfied: typing-extensions>=4.1.1 in /usr/local/lib/python3.11/dist-packages (from dash) (4.13.2)\n",
            "Requirement already satisfied: requests in /usr/local/lib/python3.11/dist-packages (from dash) (2.32.3)\n",
            "Requirement already satisfied: retrying in /usr/local/lib/python3.11/dist-packages (from dash) (1.3.4)\n",
            "Requirement already satisfied: nest-asyncio in /usr/local/lib/python3.11/dist-packages (from dash) (1.6.0)\n",
            "Requirement already satisfied: setuptools in /usr/local/lib/python3.11/dist-packages (from dash) (75.2.0)\n",
            "Requirement already satisfied: numpy>=1.23.2 in /usr/local/lib/python3.11/dist-packages (from pandas) (2.0.2)\n",
            "Requirement already satisfied: python-dateutil>=2.8.2 in /usr/local/lib/python3.11/dist-packages (from pandas) (2.9.0.post0)\n",
            "Requirement already satisfied: pytz>=2020.1 in /usr/local/lib/python3.11/dist-packages (from pandas) (2025.2)\n",
            "Requirement already satisfied: tzdata>=2022.7 in /usr/local/lib/python3.11/dist-packages (from pandas) (2025.2)\n",
            "Requirement already satisfied: tenacity>=6.2.0 in /usr/local/lib/python3.11/dist-packages (from plotly) (9.1.2)\n",
            "Requirement already satisfied: packaging in /usr/local/lib/python3.11/dist-packages (from plotly) (24.2)\n",
            "Requirement already satisfied: PyYAML>=5.1 in /usr/local/lib/python3.11/dist-packages (from pyngrok) (6.0.2)\n",
            "Requirement already satisfied: Jinja2>=3.1.2 in /usr/local/lib/python3.11/dist-packages (from Flask<3.1,>=1.0.4->dash) (3.1.6)\n",
            "Requirement already satisfied: itsdangerous>=2.1.2 in /usr/local/lib/python3.11/dist-packages (from Flask<3.1,>=1.0.4->dash) (2.2.0)\n",
            "Requirement already satisfied: click>=8.1.3 in /usr/local/lib/python3.11/dist-packages (from Flask<3.1,>=1.0.4->dash) (8.1.8)\n",
            "Requirement already satisfied: blinker>=1.6.2 in /usr/local/lib/python3.11/dist-packages (from Flask<3.1,>=1.0.4->dash) (1.9.0)\n",
            "Requirement already satisfied: six>=1.5 in /usr/local/lib/python3.11/dist-packages (from python-dateutil>=2.8.2->pandas) (1.17.0)\n",
            "Requirement already satisfied: MarkupSafe>=2.1.1 in /usr/local/lib/python3.11/dist-packages (from Werkzeug<3.1->dash) (3.0.2)\n",
            "Requirement already satisfied: zipp>=3.20 in /usr/local/lib/python3.11/dist-packages (from importlib-metadata->dash) (3.21.0)\n",
            "Requirement already satisfied: charset-normalizer<4,>=2 in /usr/local/lib/python3.11/dist-packages (from requests->dash) (3.4.1)\n",
            "Requirement already satisfied: idna<4,>=2.5 in /usr/local/lib/python3.11/dist-packages (from requests->dash) (3.10)\n",
            "Requirement already satisfied: urllib3<3,>=1.21.1 in /usr/local/lib/python3.11/dist-packages (from requests->dash) (2.4.0)\n",
            "Requirement already satisfied: certifi>=2017.4.17 in /usr/local/lib/python3.11/dist-packages (from requests->dash) (2025.4.26)\n"
          ]
        }
      ],
      "source": [
        "!pip install dash pandas plotly pyngrok\n"
      ]
    },
    {
      "cell_type": "code",
      "source": [
        "import pandas as pd\n",
        "\n",
        "data = {\n",
        "    \"Product\": [\"Item A\", \"Item B\", \"Item C\", \"Item D\"],\n",
        "    \"Vendor\": [\"Vendor X\", \"Vendor Y\", \"Vendor Z\", \"Vendor X\"],\n",
        "    \"Cost\": [120, 150, 100, 130],\n",
        "    \"Inventory\": [500, 200, 700, 300],\n",
        "    \"Delivery_Days\": [4, 5, 3, 6]\n",
        "}\n",
        "\n",
        "df = pd.DataFrame(data)\n",
        "df.to_csv(\"supply_chain_data.csv\", index=False)\n"
      ],
      "metadata": {
        "id": "BYHHwyme8P27"
      },
      "execution_count": null,
      "outputs": []
    },
    {
      "cell_type": "code",
      "source": [
        "import pandas as pd\n"
      ],
      "metadata": {
        "id": "B5BrrlE58fdD"
      },
      "execution_count": null,
      "outputs": []
    },
    {
      "cell_type": "code",
      "source": [
        "data = {\n",
        "    \"Product\": [\"Soap\", \"Shampoo\", \"Toothpaste\", \"Conditioner\"],\n",
        "    \"Vendor\": [\"Vendor A\", \"Vendor B\", \"Vendor A\", \"Vendor C\"],\n",
        "    \"Cost\": [30, 50, 40, 60],\n",
        "    \"Inventory\": [100, 80, 90, 70],\n",
        "    \"Delivery_Days\": [2, 3, 2, 4]\n",
        "}\n",
        "\n",
        "df = pd.DataFrame(data)\n"
      ],
      "metadata": {
        "id": "pwZ3NTAN8ghg"
      },
      "execution_count": null,
      "outputs": []
    },
    {
      "cell_type": "code",
      "source": [
        "df.to_csv(\"supply_chain_data.csv\", index=False)\n"
      ],
      "metadata": {
        "id": "FMGa-8sZ8mat"
      },
      "execution_count": null,
      "outputs": []
    },
    {
      "cell_type": "code",
      "source": [
        "!cat supply_chain_data.csv\n"
      ],
      "metadata": {
        "colab": {
          "base_uri": "https://localhost:8080/"
        },
        "id": "xSCIP_rY8osv",
        "outputId": "0dcd1295-8e9d-492a-f2ba-d62807828a0e"
      },
      "execution_count": null,
      "outputs": [
        {
          "output_type": "stream",
          "name": "stdout",
          "text": [
            "Product,Vendor,Cost,Inventory,Delivery_Days\n",
            "Soap,Vendor A,30,100,2\n",
            "Shampoo,Vendor B,50,80,3\n",
            "Toothpaste,Vendor A,40,90,2\n",
            "Conditioner,Vendor C,60,70,4\n"
          ]
        }
      ]
    },
    {
      "cell_type": "code",
      "source": [
        "df = pd.read_csv(\"supply_chain_data.csv\")\n"
      ],
      "metadata": {
        "id": "ke9VaBaK8rGW"
      },
      "execution_count": null,
      "outputs": []
    },
    {
      "cell_type": "code",
      "source": [
        "!pip install pulp"
      ],
      "metadata": {
        "colab": {
          "base_uri": "https://localhost:8080/"
        },
        "id": "nhjDqXkUDB1k",
        "outputId": "fe1068e1-300f-4ca6-bdbb-b39bae0940a3"
      },
      "execution_count": null,
      "outputs": [
        {
          "output_type": "stream",
          "name": "stdout",
          "text": [
            "Collecting pulp\n",
            "  Downloading pulp-3.1.1-py3-none-any.whl.metadata (1.3 kB)\n",
            "Downloading pulp-3.1.1-py3-none-any.whl (16.4 MB)\n",
            "\u001b[2K   \u001b[90m━━━━━━━━━━━━━━━━━━━━━━━━━━━━━━━━━━━━━━━━\u001b[0m \u001b[32m16.4/16.4 MB\u001b[0m \u001b[31m53.3 MB/s\u001b[0m eta \u001b[36m0:00:00\u001b[0m\n",
            "\u001b[?25hInstalling collected packages: pulp\n",
            "Successfully installed pulp-3.1.1\n"
          ]
        }
      ]
    },
    {
      "cell_type": "code",
      "source": [
        "# Cell 1: Import libraries\n",
        "import pandas as pd\n",
        "from pulp import LpMinimize, LpProblem, LpVariable, lpSum, LpStatus\n",
        "\n"
      ],
      "metadata": {
        "id": "5qI-KQi4DNN2"
      },
      "execution_count": null,
      "outputs": []
    },
    {
      "cell_type": "code",
      "source": [
        "# Cell 2: Define problem data\n",
        "\n",
        "warehouses = [\"W1\", \"W2\"]\n",
        "stores = [\"S1\", \"S2\", \"S3\"]\n",
        "\n",
        "supply = {\"W1\": 100, \"W2\": 150}\n",
        "demand = {\"S1\": 80, \"S2\": 70, \"S3\": 100}\n",
        "\n",
        "costs = {\n",
        "    (\"W1\", \"S1\"): 2,\n",
        "    (\"W1\", \"S2\"): 4,\n",
        "    (\"W1\", \"S3\"): 5,\n",
        "    (\"W2\", \"S1\"): 3,\n",
        "    (\"W2\", \"S2\"): 1,\n",
        "    (\"W2\", \"S3\"): 7,\n",
        "}\n"
      ],
      "metadata": {
        "id": "lhYYGZueDQCk"
      },
      "execution_count": null,
      "outputs": []
    },
    {
      "cell_type": "code",
      "source": [
        "# Cell 3: Define the LP problem\n",
        "model = LpProblem(\"Supply_Chain_Optimization\", LpMinimize)\n",
        "\n",
        "# Decision variables\n",
        "x = LpVariable.dicts(\"route\", costs, lowBound=0, cat='Continuous')\n",
        "\n",
        "# Objective function: minimize total transportation cost\n",
        "model += lpSum([costs[i] * x[i] for i in costs])\n"
      ],
      "metadata": {
        "id": "3JkvosuZDRID"
      },
      "execution_count": null,
      "outputs": []
    },
    {
      "cell_type": "code",
      "source": [
        "# Cell 4: Add constraints\n",
        "\n",
        "# Supply constraints\n",
        "for w in warehouses:\n",
        "    model += lpSum([x[(w, s)] for s in stores]) <= supply[w], f\"Supply_{w}\"\n",
        "\n",
        "# Demand constraints\n",
        "for s in stores:\n",
        "    model += lpSum([x[(w, s)] for w in warehouses]) >= demand[s], f\"Demand_{s}\"\n"
      ],
      "metadata": {
        "id": "cMW1Pu8eDUG9"
      },
      "execution_count": null,
      "outputs": []
    },
    {
      "cell_type": "code",
      "source": [
        "# Cell 5: Solve the model\n",
        "model.solve()\n",
        "print(f\"Status: {LpStatus[model.status]}\")\n"
      ],
      "metadata": {
        "id": "-WmnUM-gDW7P",
        "outputId": "f4a0bc53-376a-47ae-ad34-efc729345473",
        "colab": {
          "base_uri": "https://localhost:8080/"
        }
      },
      "execution_count": null,
      "outputs": [
        {
          "output_type": "stream",
          "name": "stdout",
          "text": [
            "Status: Optimal\n"
          ]
        }
      ]
    },
    {
      "cell_type": "code",
      "source": [
        "# Cell 6: Show results\n",
        "total_cost = sum([x[i].varValue * costs[i] for i in costs])\n",
        "print(f\"Total Transportation Cost: ${total_cost:.2f}\")\n",
        "\n",
        "for i in costs:\n",
        "    if x[i].varValue > 0:\n",
        "        print(f\"Ship {x[i].varValue} units from {i[0]} to {i[1]}\")\n"
      ],
      "metadata": {
        "id": "uLlcGwj2DZ9d",
        "outputId": "080b6df8-9563-4e69-8b42-b6aa57d4da5f",
        "colab": {
          "base_uri": "https://localhost:8080/"
        }
      },
      "execution_count": null,
      "outputs": [
        {
          "output_type": "stream",
          "name": "stdout",
          "text": [
            "Total Transportation Cost: $810.00\n",
            "Ship 100.0 units from W1 to S3\n",
            "Ship 80.0 units from W2 to S1\n",
            "Ship 70.0 units from W2 to S2\n"
          ]
        }
      ]
    }
  ]
}