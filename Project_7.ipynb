{
  "nbformat": 4,
  "nbformat_minor": 0,
  "metadata": {
    "colab": {
      "provenance": [],
      "authorship_tag": "ABX9TyN6v1DgOeSJywM+z1PPbPhN",
      "include_colab_link": true
    },
    "kernelspec": {
      "name": "python3",
      "display_name": "Python 3"
    },
    "language_info": {
      "name": "python"
    }
  },
  "cells": [
    {
      "cell_type": "markdown",
      "metadata": {
        "id": "view-in-github",
        "colab_type": "text"
      },
      "source": [
        "<a href=\"https://colab.research.google.com/github/Sp-supriya/HCDS-Projects/blob/main/Project_7.ipynb\" target=\"_parent\"><img src=\"https://colab.research.google.com/assets/colab-badge.svg\" alt=\"Open In Colab\"/></a>"
      ]
    },
    {
      "cell_type": "markdown",
      "source": [
        "# ***HR Employee performance tracker***"
      ],
      "metadata": {
        "id": "ffe4vH4Oenqb"
      }
    },
    {
      "cell_type": "code",
      "source": [
        "!pip install pandas openpyxl"
      ],
      "metadata": {
        "colab": {
          "base_uri": "https://localhost:8080/"
        },
        "id": "qXR0l_hBe_aD",
        "outputId": "ee4dabbf-f5fe-4d18-8f12-ba2da4d2d624"
      },
      "execution_count": null,
      "outputs": [
        {
          "output_type": "stream",
          "name": "stdout",
          "text": [
            "Requirement already satisfied: pandas in /usr/local/lib/python3.11/dist-packages (2.2.2)\n",
            "Requirement already satisfied: openpyxl in /usr/local/lib/python3.11/dist-packages (3.1.5)\n",
            "Requirement already satisfied: numpy>=1.23.2 in /usr/local/lib/python3.11/dist-packages (from pandas) (2.0.2)\n",
            "Requirement already satisfied: python-dateutil>=2.8.2 in /usr/local/lib/python3.11/dist-packages (from pandas) (2.9.0.post0)\n",
            "Requirement already satisfied: pytz>=2020.1 in /usr/local/lib/python3.11/dist-packages (from pandas) (2025.2)\n",
            "Requirement already satisfied: tzdata>=2022.7 in /usr/local/lib/python3.11/dist-packages (from pandas) (2025.2)\n",
            "Requirement already satisfied: et-xmlfile in /usr/local/lib/python3.11/dist-packages (from openpyxl) (2.0.0)\n",
            "Requirement already satisfied: six>=1.5 in /usr/local/lib/python3.11/dist-packages (from python-dateutil>=2.8.2->pandas) (1.17.0)\n"
          ]
        }
      ]
    },
    {
      "cell_type": "code",
      "source": [
        "import sqlite3\n",
        "\n",
        "def init_db():\n",
        "    conn = sqlite3.connect('hr.db')\n",
        "    c = conn.cursor()\n",
        "\n",
        "    c.execute('''CREATE TABLE IF NOT EXISTS employees (\n",
        "                    emp_id INTEGER PRIMARY KEY AUTOINCREMENT,\n",
        "                    name TEXT,\n",
        "                    department TEXT,\n",
        "                    role TEXT\n",
        "                )''')\n",
        "\n",
        "    c.execute('''CREATE TABLE IF NOT EXISTS performance (\n",
        "                    id INTEGER PRIMARY KEY AUTOINCREMENT,\n",
        "                    emp_id INTEGER,\n",
        "                    date TEXT,\n",
        "                    punctuality INTEGER,\n",
        "                    tasks_completed INTEGER,\n",
        "                    teamwork INTEGER,\n",
        "                    FOREIGN KEY(emp_id) REFERENCES employees(emp_id)\n",
        "                )''')\n",
        "\n",
        "    conn.commit()\n",
        "    conn.close()\n",
        "\n",
        "def add_employee(name, dept, role):\n",
        "    conn = sqlite3.connect('hr.db')\n",
        "    c = conn.cursor()\n",
        "    c.execute(\"INSERT INTO employees (name, department, role) VALUES (?, ?, ?)\", (name, dept, role))\n",
        "    conn.commit()\n",
        "    conn.close()\n",
        "\n",
        "init_db()"
      ],
      "metadata": {
        "id": "YMRcBARdfFbp"
      },
      "execution_count": null,
      "outputs": []
    },
    {
      "cell_type": "code",
      "source": [
        "# Add one or more employees manually here\n",
        "add_employee(\"Supriya\", \"AI & ML\", \"Intern\")\n",
        "add_employee(\"John Doe\", \"HR\", \"Recruiter\")\n",
        "print(\"Employees added.\")"
      ],
      "metadata": {
        "colab": {
          "base_uri": "https://localhost:8080/"
        },
        "id": "JCGovVURfIMO",
        "outputId": "fd173bc9-05f3-454b-888a-d773dd36aafc"
      },
      "execution_count": null,
      "outputs": [
        {
          "output_type": "stream",
          "name": "stdout",
          "text": [
            "Employees added.\n"
          ]
        }
      ]
    },
    {
      "cell_type": "code",
      "source": [
        "from datetime import date\n",
        "\n",
        "def log_performance(emp_id, punctuality, tasks_completed, teamwork):\n",
        "    today = date.today().isoformat()\n",
        "    conn = sqlite3.connect('hr.db')\n",
        "    c = conn.cursor()\n",
        "    c.execute(\"\"\"INSERT INTO performance (emp_id, date, punctuality, tasks_completed, teamwork)\n",
        "                 VALUES (?, ?, ?, ?, ?)\"\"\", (emp_id, today, punctuality, tasks_completed, teamwork))\n",
        "    conn.commit()\n",
        "    conn.close()\n",
        "\n",
        "# Log some sample performance\n",
        "log_performance(1, 9, 8, 7)\n",
        "log_performance(2, 6, 7, 9)\n",
        "print(\"Performance data logged.\")"
      ],
      "metadata": {
        "colab": {
          "base_uri": "https://localhost:8080/"
        },
        "id": "OftpMsQFfL86",
        "outputId": "d87abe84-bb30-4199-f7f3-48bc1f717b09"
      },
      "execution_count": null,
      "outputs": [
        {
          "output_type": "stream",
          "name": "stdout",
          "text": [
            "Performance data logged.\n"
          ]
        }
      ]
    },
    {
      "cell_type": "code",
      "source": [
        "import pandas as pd\n",
        "\n",
        "def generate_report():\n",
        "    conn = sqlite3.connect('hr.db')\n",
        "    df = pd.read_sql_query('''SELECT e.name, e.department, e.role,\n",
        "                                      p.date, p.punctuality, p.tasks_completed, p.teamwork\n",
        "                               FROM employees e\n",
        "                               JOIN performance p ON e.emp_id = p.emp_id''', conn)\n",
        "    conn.close()\n",
        "\n",
        "    df['performance_score'] = df.apply(lambda row:\n",
        "        row['punctuality'] * 0.3 + row['tasks_completed'] * 0.5 + row['teamwork'] * 0.2, axis=1)\n",
        "\n",
        "    df.to_excel('employee_performance_report.xlsx', index=False)\n",
        "    print(\"✅ Report generated: employee_performance_report.xlsx\")\n",
        "\n",
        "generate_report()"
      ],
      "metadata": {
        "colab": {
          "base_uri": "https://localhost:8080/"
        },
        "id": "eqQSy6uGfOvx",
        "outputId": "10581413-2f0f-4199-88f8-04ea70430782"
      },
      "execution_count": null,
      "outputs": [
        {
          "output_type": "stream",
          "name": "stdout",
          "text": [
            "✅ Report generated: employee_performance_report.xlsx\n"
          ]
        }
      ]
    },
    {
      "cell_type": "code",
      "source": [
        "from google.colab import files\n",
        "files.download(\"employee_performance_report.xlsx\")"
      ],
      "metadata": {
        "colab": {
          "base_uri": "https://localhost:8080/",
          "height": 17
        },
        "id": "XtUFjWatfU2K",
        "outputId": "9fb0b4d3-9e49-4072-b4bd-70098eca8bb9"
      },
      "execution_count": null,
      "outputs": [
        {
          "output_type": "display_data",
          "data": {
            "text/plain": [
              "<IPython.core.display.Javascript object>"
            ],
            "application/javascript": [
              "\n",
              "    async function download(id, filename, size) {\n",
              "      if (!google.colab.kernel.accessAllowed) {\n",
              "        return;\n",
              "      }\n",
              "      const div = document.createElement('div');\n",
              "      const label = document.createElement('label');\n",
              "      label.textContent = `Downloading \"${filename}\": `;\n",
              "      div.appendChild(label);\n",
              "      const progress = document.createElement('progress');\n",
              "      progress.max = size;\n",
              "      div.appendChild(progress);\n",
              "      document.body.appendChild(div);\n",
              "\n",
              "      const buffers = [];\n",
              "      let downloaded = 0;\n",
              "\n",
              "      const channel = await google.colab.kernel.comms.open(id);\n",
              "      // Send a message to notify the kernel that we're ready.\n",
              "      channel.send({})\n",
              "\n",
              "      for await (const message of channel.messages) {\n",
              "        // Send a message to notify the kernel that we're ready.\n",
              "        channel.send({})\n",
              "        if (message.buffers) {\n",
              "          for (const buffer of message.buffers) {\n",
              "            buffers.push(buffer);\n",
              "            downloaded += buffer.byteLength;\n",
              "            progress.value = downloaded;\n",
              "          }\n",
              "        }\n",
              "      }\n",
              "      const blob = new Blob(buffers, {type: 'application/binary'});\n",
              "      const a = document.createElement('a');\n",
              "      a.href = window.URL.createObjectURL(blob);\n",
              "      a.download = filename;\n",
              "      div.appendChild(a);\n",
              "      a.click();\n",
              "      div.remove();\n",
              "    }\n",
              "  "
            ]
          },
          "metadata": {}
        },
        {
          "output_type": "display_data",
          "data": {
            "text/plain": [
              "<IPython.core.display.Javascript object>"
            ],
            "application/javascript": [
              "download(\"download_4758c716-287d-4855-b27c-6203a6c9a5c6\", \"employee_performance_report.xlsx\", 5135)"
            ]
          },
          "metadata": {}
        }
      ]
    },
    {
      "cell_type": "code",
      "source": [
        "import sqlite3\n",
        "\n",
        "def init_db():\n",
        "    conn = sqlite3.connect('hr.db')\n",
        "    c = conn.cursor()\n",
        "\n",
        "    # Enhanced employee table\n",
        "    c.execute('''CREATE TABLE IF NOT EXISTS employees (\n",
        "                    emp_id INTEGER PRIMARY KEY AUTOINCREMENT,\n",
        "                    name TEXT,\n",
        "                    department TEXT,\n",
        "                    role TEXT,\n",
        "                    email TEXT,\n",
        "                    phone TEXT,\n",
        "                    join_date TEXT,\n",
        "                    manager_name TEXT\n",
        "                )''')\n",
        "\n",
        "    # Performance table\n",
        "    c.execute('''CREATE TABLE IF NOT EXISTS performance (\n",
        "                    id INTEGER PRIMARY KEY AUTOINCREMENT,\n",
        "                    emp_id INTEGER,\n",
        "                    date TEXT,\n",
        "                    punctuality INTEGER,\n",
        "                    tasks_completed INTEGER,\n",
        "                    teamwork INTEGER,\n",
        "                    FOREIGN KEY(emp_id) REFERENCES employees(emp_id)\n",
        "                )''')\n",
        "\n",
        "    conn.commit()\n",
        "    conn.close()\n",
        "\n",
        "def add_employee(name, dept, role, email, phone, join_date, manager_name):\n",
        "    conn = sqlite3.connect('hr.db')\n",
        "    c = conn.cursor()\n",
        "    c.execute('''INSERT INTO employees\n",
        "                 (name, department, role, email, phone, join_date, manager_name)\n",
        "                 VALUES (?, ?, ?, ?, ?, ?, ?)''',\n",
        "              (name, dept, role, email, phone, join_date, manager_name))\n",
        "    conn.commit()\n",
        "    conn.close()\n",
        "\n",
        "init_db()\n"
      ],
      "metadata": {
        "id": "GnPIi6P0f2RZ"
      },
      "execution_count": null,
      "outputs": []
    },
    {
      "cell_type": "code",
      "source": [
        "# WARNING: This will delete all existing employee data!\n",
        "conn = sqlite3.connect('hr.db')\n",
        "c = conn.cursor()\n",
        "c.execute(\"DROP TABLE IF EXISTS employees\")\n",
        "c.execute(\"DROP TABLE IF EXISTS performance\")\n",
        "conn.commit()\n",
        "conn.close()\n",
        "print(\"Old tables dropped.\")\n"
      ],
      "metadata": {
        "colab": {
          "base_uri": "https://localhost:8080/"
        },
        "id": "3J7kVGNqgDh7",
        "outputId": "5aa0370d-f125-495c-b70f-72aee77a1e89"
      },
      "execution_count": null,
      "outputs": [
        {
          "output_type": "stream",
          "name": "stdout",
          "text": [
            "Old tables dropped.\n"
          ]
        }
      ]
    },
    {
      "cell_type": "code",
      "source": [
        "def init_db():\n",
        "    conn = sqlite3.connect('hr.db')\n",
        "    c = conn.cursor()\n",
        "\n",
        "    c.execute('''CREATE TABLE IF NOT EXISTS employees (\n",
        "                    emp_id INTEGER PRIMARY KEY AUTOINCREMENT,\n",
        "                    name TEXT,\n",
        "                    department TEXT,\n",
        "                    role TEXT,\n",
        "                    email TEXT,\n",
        "                    phone TEXT,\n",
        "                    join_date TEXT,\n",
        "                    manager_name TEXT\n",
        "                )''')\n",
        "\n",
        "    c.execute('''CREATE TABLE IF NOT EXISTS performance (\n",
        "                    id INTEGER PRIMARY KEY AUTOINCREMENT,\n",
        "                    emp_id INTEGER,\n",
        "                    date TEXT,\n",
        "                    punctuality INTEGER,\n",
        "                    tasks_completed INTEGER,\n",
        "                    teamwork INTEGER,\n",
        "                    FOREIGN KEY(emp_id) REFERENCES employees(emp_id)\n",
        "                )''')\n",
        "\n",
        "    conn.commit()\n",
        "    conn.close()\n",
        "\n",
        "init_db()\n"
      ],
      "metadata": {
        "id": "uN7DGfb1gGFN"
      },
      "execution_count": null,
      "outputs": []
    },
    {
      "cell_type": "code",
      "source": [
        "add_employee(\n",
        "    name=\"Supriya\",\n",
        "    dept=\"AI & ML\",\n",
        "    role=\"Intern\",\n",
        "    email=\"supriya@example.com\",\n",
        "    phone=\"9876543210\",\n",
        "    join_date=\"2024-06-01\",\n",
        "    manager_name=\"Dr. Asha Reddy\"\n",
        ")\n"
      ],
      "metadata": {
        "id": "126LTeP9gI96"
      },
      "execution_count": null,
      "outputs": []
    },
    {
      "cell_type": "code",
      "source": [
        "import sqlite3\n",
        "\n",
        "def init_db():\n",
        "    conn = sqlite3.connect('hr.db')\n",
        "    c = conn.cursor()\n",
        "\n",
        "    # Enhanced employee table\n",
        "    c.execute('''CREATE TABLE IF NOT EXISTS employees (\n",
        "                    emp_id INTEGER PRIMARY KEY AUTOINCREMENT,\n",
        "                    name TEXT,\n",
        "                    department TEXT,\n",
        "                    role TEXT,\n",
        "                    email TEXT,\n",
        "                    phone TEXT,\n",
        "                    join_date TEXT,\n",
        "                    manager_name TEXT\n",
        "                )''')\n",
        "\n",
        "    # Performance table\n",
        "    c.execute('''CREATE TABLE IF NOT EXISTS performance (\n",
        "                    id INTEGER PRIMARY KEY AUTOINCREMENT,\n",
        "                    emp_id INTEGER,\n",
        "                    date TEXT,\n",
        "                    punctuality INTEGER,\n",
        "                    tasks_completed INTEGER,\n",
        "                    teamwork INTEGER,\n",
        "                    FOREIGN KEY(emp_id) REFERENCES employees(emp_id)\n",
        "                )''')\n",
        "\n",
        "    conn.commit()\n",
        "    conn.close()\n",
        "\n",
        "def add_employee(name, dept, role, email, phone, join_date, manager_name):\n",
        "    conn = sqlite3.connect('hr.db')\n",
        "    c = conn.cursor()\n",
        "    c.execute('''INSERT INTO employees\n",
        "                 (name, department, role, email, phone, join_date, manager_name)\n",
        "                 VALUES (?, ?, ?, ?, ?, ?, ?)''',\n",
        "              (name, dept, role, email, phone, join_date, manager_name))\n",
        "    conn.commit()\n",
        "    conn.close()\n",
        "\n",
        "init_db()\n"
      ],
      "metadata": {
        "id": "zmm8rt7FgLsn"
      },
      "execution_count": null,
      "outputs": []
    },
    {
      "cell_type": "code",
      "source": [
        "add_employee(\n",
        "    name=\"Supriya\",\n",
        "    dept=\"AI & ML\",\n",
        "    role=\"Intern\",\n",
        "    email=\"supriya@example.com\",\n",
        "    phone=\"9876543210\",\n",
        "    join_date=\"2024-06-01\",\n",
        "    manager_name=\"Dr. Asha Reddy\"\n",
        ")\n",
        "\n",
        "add_employee(\n",
        "    name=\"John Doe\",\n",
        "    dept=\"HR\",\n",
        "    role=\"Recruiter\",\n",
        "    email=\"john.doe@example.com\",\n",
        "    phone=\"9123456789\",\n",
        "    join_date=\"2023-09-15\",\n",
        "    manager_name=\"Ms. Shalini Kapoor\"\n",
        ")\n",
        "\n",
        "print(\"Enhanced employee records added.\")\n"
      ],
      "metadata": {
        "colab": {
          "base_uri": "https://localhost:8080/"
        },
        "id": "jTHuPSo0gQMX",
        "outputId": "d06c3c49-6a22-48bf-d141-6fba302581b0"
      },
      "execution_count": null,
      "outputs": [
        {
          "output_type": "stream",
          "name": "stdout",
          "text": [
            "Enhanced employee records added.\n"
          ]
        }
      ]
    },
    {
      "cell_type": "code",
      "source": [
        "import pandas as pd\n",
        "\n",
        "def generate_report():\n",
        "    conn = sqlite3.connect('hr.db')\n",
        "    df = pd.read_sql_query('''SELECT e.emp_id, e.name, e.department, e.role, e.email, e.phone,\n",
        "                                      e.join_date, e.manager_name,\n",
        "                                      p.date, p.punctuality, p.tasks_completed, p.teamwork\n",
        "                               FROM employees e\n",
        "                               JOIN performance p ON e.emp_id = p.emp_id''', conn)\n",
        "    conn.close()\n",
        "\n",
        "    df['performance_score'] = df.apply(lambda row:\n",
        "        row['punctuality'] * 0.3 + row['tasks_completed'] * 0.5 + row['teamwork'] * 0.2, axis=1)\n",
        "\n",
        "    df.to_excel('employee_performance_report.xlsx', index=False)\n",
        "    print(\"✅ Report generated with enhanced employee details.\")\n",
        "\n",
        "generate_report()\n"
      ],
      "metadata": {
        "colab": {
          "base_uri": "https://localhost:8080/"
        },
        "id": "shA3oWm5gS3-",
        "outputId": "7772791f-03cd-4453-ca6f-d5d84099444f"
      },
      "execution_count": null,
      "outputs": [
        {
          "output_type": "stream",
          "name": "stdout",
          "text": [
            "✅ Report generated with enhanced employee details.\n"
          ]
        }
      ]
    },
    {
      "cell_type": "code",
      "source": [
        "from google.colab import files\n",
        "files.download(\"employee_performance_report.xlsx\")\n"
      ],
      "metadata": {
        "colab": {
          "base_uri": "https://localhost:8080/",
          "height": 17
        },
        "id": "n3Up4guRgVft",
        "outputId": "7f4408be-06a2-4c9c-c621-9a03fa0cfcb4"
      },
      "execution_count": null,
      "outputs": [
        {
          "output_type": "display_data",
          "data": {
            "text/plain": [
              "<IPython.core.display.Javascript object>"
            ],
            "application/javascript": [
              "\n",
              "    async function download(id, filename, size) {\n",
              "      if (!google.colab.kernel.accessAllowed) {\n",
              "        return;\n",
              "      }\n",
              "      const div = document.createElement('div');\n",
              "      const label = document.createElement('label');\n",
              "      label.textContent = `Downloading \"${filename}\": `;\n",
              "      div.appendChild(label);\n",
              "      const progress = document.createElement('progress');\n",
              "      progress.max = size;\n",
              "      div.appendChild(progress);\n",
              "      document.body.appendChild(div);\n",
              "\n",
              "      const buffers = [];\n",
              "      let downloaded = 0;\n",
              "\n",
              "      const channel = await google.colab.kernel.comms.open(id);\n",
              "      // Send a message to notify the kernel that we're ready.\n",
              "      channel.send({})\n",
              "\n",
              "      for await (const message of channel.messages) {\n",
              "        // Send a message to notify the kernel that we're ready.\n",
              "        channel.send({})\n",
              "        if (message.buffers) {\n",
              "          for (const buffer of message.buffers) {\n",
              "            buffers.push(buffer);\n",
              "            downloaded += buffer.byteLength;\n",
              "            progress.value = downloaded;\n",
              "          }\n",
              "        }\n",
              "      }\n",
              "      const blob = new Blob(buffers, {type: 'application/binary'});\n",
              "      const a = document.createElement('a');\n",
              "      a.href = window.URL.createObjectURL(blob);\n",
              "      a.download = filename;\n",
              "      div.appendChild(a);\n",
              "      a.click();\n",
              "      div.remove();\n",
              "    }\n",
              "  "
            ]
          },
          "metadata": {}
        },
        {
          "output_type": "display_data",
          "data": {
            "text/plain": [
              "<IPython.core.display.Javascript object>"
            ],
            "application/javascript": [
              "download(\"download_75563392-51d1-4475-a07a-f0c5ee6f51c9\", \"employee_performance_report.xlsx\", 5043)"
            ]
          },
          "metadata": {}
        }
      ]
    },
    {
      "cell_type": "code",
      "source": [
        "add_employee(\n",
        "    name=\"Supriya\",\n",
        "    dept=\"AI & ML\",\n",
        "    role=\"Intern\",\n",
        "    email=\"supriya@example.com\",\n",
        "    phone=\"9876543210\",\n",
        "    join_date=\"2024-06-01\",\n",
        "    manager_name=\"Dr. Asha Reddy\"\n",
        ")\n"
      ],
      "metadata": {
        "id": "WB8Sw3FvgefO"
      },
      "execution_count": null,
      "outputs": []
    }
  ]
}