{
  "nbformat": 4,
  "nbformat_minor": 0,
  "metadata": {
    "colab": {
      "provenance": [],
      "authorship_tag": "ABX9TyOkKjM4pa+OqJXTfAKr1RYo",
      "include_colab_link": true
    },
    "kernelspec": {
      "name": "python3",
      "display_name": "Python 3"
    },
    "language_info": {
      "name": "python"
    }
  },
  "cells": [
    {
      "cell_type": "markdown",
      "metadata": {
        "id": "view-in-github",
        "colab_type": "text"
      },
      "source": [
        "<a href=\"https://colab.research.google.com/github/Sp-supriya/HCDS-Projects/blob/main/Project_19.ipynb\" target=\"_parent\"><img src=\"https://colab.research.google.com/assets/colab-badge.svg\" alt=\"Open In Colab\"/></a>"
      ]
    },
    {
      "cell_type": "markdown",
      "source": [
        "# Offer letter generation using RPA - automate the process and perform exception handling"
      ],
      "metadata": {
        "id": "zoVehFrqDOu8"
      }
    },
    {
      "cell_type": "code",
      "source": [
        "!pip install pyautogui python-docx pandas\n"
      ],
      "metadata": {
        "colab": {
          "base_uri": "https://localhost:8080/"
        },
        "id": "2H_eACnDDUTm",
        "outputId": "97cf3d4d-8e03-4ff9-908b-f8413f43da4a"
      },
      "execution_count": null,
      "outputs": [
        {
          "output_type": "stream",
          "name": "stdout",
          "text": [
            "Collecting pyautogui\n",
            "  Downloading PyAutoGUI-0.9.54.tar.gz (61 kB)\n",
            "\u001b[?25l     \u001b[90m━━━━━━━━━━━━━━━━━━━━━━━━━━━━━━━━━━━━━━━━\u001b[0m \u001b[32m0.0/61.2 kB\u001b[0m \u001b[31m?\u001b[0m eta \u001b[36m-:--:--\u001b[0m\r\u001b[2K     \u001b[91m━━━━━━━━━━━━━━━━━━━━━━━━━━━━━━━━━\u001b[0m\u001b[90m╺\u001b[0m\u001b[90m━━━━━━\u001b[0m \u001b[32m51.2/61.2 kB\u001b[0m \u001b[31m38.3 MB/s\u001b[0m eta \u001b[36m0:00:01\u001b[0m\r\u001b[2K     \u001b[90m━━━━━━━━━━━━━━━━━━━━━━━━━━━━━━━━━━━━━━━━\u001b[0m \u001b[32m61.2/61.2 kB\u001b[0m \u001b[31m1.3 MB/s\u001b[0m eta \u001b[36m0:00:00\u001b[0m\n",
            "\u001b[?25h  Installing build dependencies ... \u001b[?25l\u001b[?25hdone\n",
            "  Getting requirements to build wheel ... \u001b[?25l\u001b[?25hdone\n",
            "  Preparing metadata (pyproject.toml) ... \u001b[?25l\u001b[?25hdone\n",
            "Collecting python-docx\n",
            "  Downloading python_docx-1.1.2-py3-none-any.whl.metadata (2.0 kB)\n",
            "Requirement already satisfied: pandas in /usr/local/lib/python3.11/dist-packages (2.2.2)\n",
            "Collecting python3-Xlib (from pyautogui)\n",
            "  Downloading python3-xlib-0.15.tar.gz (132 kB)\n",
            "\u001b[2K     \u001b[90m━━━━━━━━━━━━━━━━━━━━━━━━━━━━━━━━━━━━━━━\u001b[0m \u001b[32m132.8/132.8 kB\u001b[0m \u001b[31m5.8 MB/s\u001b[0m eta \u001b[36m0:00:00\u001b[0m\n",
            "\u001b[?25h  Preparing metadata (setup.py) ... \u001b[?25l\u001b[?25hdone\n",
            "Collecting pymsgbox (from pyautogui)\n",
            "  Downloading PyMsgBox-1.0.9.tar.gz (18 kB)\n",
            "  Installing build dependencies ... \u001b[?25l\u001b[?25hdone\n",
            "  Getting requirements to build wheel ... \u001b[?25l\u001b[?25hdone\n",
            "  Preparing metadata (pyproject.toml) ... \u001b[?25l\u001b[?25hdone\n",
            "Collecting pytweening>=1.0.4 (from pyautogui)\n",
            "  Downloading pytweening-1.2.0.tar.gz (171 kB)\n",
            "\u001b[2K     \u001b[90m━━━━━━━━━━━━━━━━━━━━━━━━━━━━━━━━━━━━━━\u001b[0m \u001b[32m171.2/171.2 kB\u001b[0m \u001b[31m13.5 MB/s\u001b[0m eta \u001b[36m0:00:00\u001b[0m\n",
            "\u001b[?25h  Preparing metadata (setup.py) ... \u001b[?25l\u001b[?25hdone\n",
            "Collecting pyscreeze>=0.1.21 (from pyautogui)\n",
            "  Downloading pyscreeze-1.0.1.tar.gz (27 kB)\n",
            "  Installing build dependencies ... \u001b[?25l\u001b[?25hdone\n",
            "  Getting requirements to build wheel ... \u001b[?25l\u001b[?25hdone\n",
            "  Preparing metadata (pyproject.toml) ... \u001b[?25l\u001b[?25hdone\n",
            "Collecting pygetwindow>=0.0.5 (from pyautogui)\n",
            "  Downloading PyGetWindow-0.0.9.tar.gz (9.7 kB)\n",
            "  Preparing metadata (setup.py) ... \u001b[?25l\u001b[?25hdone\n",
            "Collecting mouseinfo (from pyautogui)\n",
            "  Downloading MouseInfo-0.1.3.tar.gz (10 kB)\n",
            "  Preparing metadata (setup.py) ... \u001b[?25l\u001b[?25hdone\n",
            "Requirement already satisfied: lxml>=3.1.0 in /usr/local/lib/python3.11/dist-packages (from python-docx) (5.4.0)\n",
            "Requirement already satisfied: typing-extensions>=4.9.0 in /usr/local/lib/python3.11/dist-packages (from python-docx) (4.13.2)\n",
            "Requirement already satisfied: numpy>=1.23.2 in /usr/local/lib/python3.11/dist-packages (from pandas) (2.0.2)\n",
            "Requirement already satisfied: python-dateutil>=2.8.2 in /usr/local/lib/python3.11/dist-packages (from pandas) (2.9.0.post0)\n",
            "Requirement already satisfied: pytz>=2020.1 in /usr/local/lib/python3.11/dist-packages (from pandas) (2025.2)\n",
            "Requirement already satisfied: tzdata>=2022.7 in /usr/local/lib/python3.11/dist-packages (from pandas) (2025.2)\n",
            "Collecting pyrect (from pygetwindow>=0.0.5->pyautogui)\n",
            "  Downloading PyRect-0.2.0.tar.gz (17 kB)\n",
            "  Preparing metadata (setup.py) ... \u001b[?25l\u001b[?25hdone\n",
            "Requirement already satisfied: Pillow>=9.3.0 in /usr/local/lib/python3.11/dist-packages (from pyscreeze>=0.1.21->pyautogui) (11.2.1)\n",
            "Requirement already satisfied: six>=1.5 in /usr/local/lib/python3.11/dist-packages (from python-dateutil>=2.8.2->pandas) (1.17.0)\n",
            "Requirement already satisfied: pyperclip in /usr/local/lib/python3.11/dist-packages (from mouseinfo->pyautogui) (1.9.0)\n",
            "Downloading python_docx-1.1.2-py3-none-any.whl (244 kB)\n",
            "\u001b[2K   \u001b[90m━━━━━━━━━━━━━━━━━━━━━━━━━━━━━━━━━━━━━━━━\u001b[0m \u001b[32m244.3/244.3 kB\u001b[0m \u001b[31m19.3 MB/s\u001b[0m eta \u001b[36m0:00:00\u001b[0m\n",
            "\u001b[?25hBuilding wheels for collected packages: pyautogui, pygetwindow, pyscreeze, pytweening, mouseinfo, pymsgbox, python3-Xlib, pyrect\n",
            "  Building wheel for pyautogui (pyproject.toml) ... \u001b[?25l\u001b[?25hdone\n",
            "  Created wheel for pyautogui: filename=pyautogui-0.9.54-py3-none-any.whl size=37684 sha256=3f50226d176c8bbf37aca5fa826a232a7be3d6f7a09474ef73421a7ad44ef608\n",
            "  Stored in directory: /root/.cache/pip/wheels/95/dc/b1/fe122b791e0db8bf439a0e6e1d2628e48f10bf430cae13521b\n",
            "  Building wheel for pygetwindow (setup.py) ... \u001b[?25l\u001b[?25hdone\n",
            "  Created wheel for pygetwindow: filename=PyGetWindow-0.0.9-py3-none-any.whl size=11063 sha256=9c7b52cc671079e041cba7564c3bf69100efc00a8d655630d128a3e9afc85eaf\n",
            "  Stored in directory: /root/.cache/pip/wheels/07/75/0b/7ca0b598eb4c21d43ba4bcc78a0538dfcf803a5997da33bc19\n",
            "  Building wheel for pyscreeze (pyproject.toml) ... \u001b[?25l\u001b[?25hdone\n",
            "  Created wheel for pyscreeze: filename=pyscreeze-1.0.1-py3-none-any.whl size=14457 sha256=e092cf63dc11c1d53a769a6af5877f9ae257318670c83ec343ba5a5b1fde5445\n",
            "  Stored in directory: /root/.cache/pip/wheels/cd/e3/dd/267b393d8e8f607e47194942740d080d9bfd835cd4375a3de1\n",
            "  Building wheel for pytweening (setup.py) ... \u001b[?25l\u001b[?25hdone\n",
            "  Created wheel for pytweening: filename=pytweening-1.2.0-py3-none-any.whl size=8009 sha256=0aae57ad4b0bf2f1ce2e3b42efc48f7598403a0ab9553a7ed9184af236b6aa13\n",
            "  Stored in directory: /root/.cache/pip/wheels/db/81/dc/0d61a3c9614f288e057ab63924e2a49edbeed4ffc916dcda1e\n",
            "  Building wheel for mouseinfo (setup.py) ... \u001b[?25l\u001b[?25hdone\n",
            "  Created wheel for mouseinfo: filename=MouseInfo-0.1.3-py3-none-any.whl size=10888 sha256=e30c1d39c4db20d756ee4140f2c51b2edf4c17508a619b27f033e3ac25e74b2f\n",
            "  Stored in directory: /root/.cache/pip/wheels/20/0b/7f/939ac9ff785b09951c706150537572c00123412f260a6024f3\n",
            "  Building wheel for pymsgbox (pyproject.toml) ... \u001b[?25l\u001b[?25hdone\n",
            "  Created wheel for pymsgbox: filename=pymsgbox-1.0.9-py3-none-any.whl size=7450 sha256=4f1e86cfd80034d1e6bd783d22dbe1b2fae2bb4d3db817765e933793649d04d7\n",
            "  Stored in directory: /root/.cache/pip/wheels/85/92/63/e126ee5f33d8f2ed04f96e43ef5df7270a2f331848752e8662\n",
            "  Building wheel for python3-Xlib (setup.py) ... \u001b[?25l\u001b[?25hdone\n",
            "  Created wheel for python3-Xlib: filename=python3_xlib-0.15-py3-none-any.whl size=109501 sha256=91312b241fae594cf98c33050e83983b61dbfea559170d0ddea7211426d06571\n",
            "  Stored in directory: /root/.cache/pip/wheels/58/d2/1b/c2247396a6c5fbb1900ccf1ec3b73482d428b137dcdf1d99de\n",
            "  Building wheel for pyrect (setup.py) ... \u001b[?25l\u001b[?25hdone\n",
            "  Created wheel for pyrect: filename=PyRect-0.2.0-py2.py3-none-any.whl size=11181 sha256=b26a0f98d15c14dd66d3b91d8d87b31e61c4783f848ecdd9ef4e1e31979436af\n",
            "  Stored in directory: /root/.cache/pip/wheels/c4/e9/fc/b7a666dd4f9a3168fb44d643079b41d36ddab52f470707e820\n",
            "Successfully built pyautogui pygetwindow pyscreeze pytweening mouseinfo pymsgbox python3-Xlib pyrect\n",
            "Installing collected packages: pytweening, python3-Xlib, pyrect, pymsgbox, python-docx, pyscreeze, pygetwindow, mouseinfo, pyautogui\n",
            "Successfully installed mouseinfo-0.1.3 pyautogui-0.9.54 pygetwindow-0.0.9 pymsgbox-1.0.9 pyrect-0.2.0 pyscreeze-1.0.1 python-docx-1.1.2 python3-Xlib-0.15 pytweening-1.2.0\n"
          ]
        }
      ]
    },
    {
      "cell_type": "code",
      "source": [
        "import csv\n",
        "\n",
        "# Define the header and data\n",
        "header = ['Name', 'Position', 'Salary']\n",
        "data = [\n",
        "    ['John Doe', 'Software Engineer', 70000],\n",
        "    ['Jane Smith', 'Data Scientist', 80000],\n",
        "    ['Michael Brown', 'HR Manager', 60000],\n",
        "    ['ABCD', 'Data Analyst', 50000],\n",
        "    ['Harry', 'Software Developer', 45000],\n",
        "    ['Supriya', 'CEO', 90000],\n",
        "    ['Carrie', 'HR ', 88000]\n",
        "]\n",
        "\n",
        "# Open a CSV file and write the data\n",
        "with open('employee_data.csv', mode='w', newline='') as file:\n",
        "    writer = csv.writer(file)\n",
        "\n",
        "    # Write the header\n",
        "    writer.writerow(header)\n",
        "\n",
        "    # Write the data\n",
        "    writer.writerows(data)\n",
        "\n",
        "print(\"CSV file created successfully!\")\n"
      ],
      "metadata": {
        "colab": {
          "base_uri": "https://localhost:8080/"
        },
        "id": "V34MMN48Dnp1",
        "outputId": "1ec8ee76-fc0d-4436-dfb5-92abc337421b"
      },
      "execution_count": null,
      "outputs": [
        {
          "output_type": "stream",
          "name": "stdout",
          "text": [
            "CSV file created successfully!\n"
          ]
        }
      ]
    },
    {
      "cell_type": "code",
      "source": [
        "import pandas as pd\n",
        "\n",
        "# Define the data\n",
        "data = {\n",
        "    'Name': ['John Doe', 'Jane Smith', 'Michael Brown', 'ABCD', 'Harry', 'Supriya', 'Carrie'],\n",
        "    'Position': ['Software Engineer', 'Data Scientist', 'HR Manager', 'Data Analyst', 'Software Developer', 'CEO','HR'],\n",
        "    'Salary': [70000, 80000, 60000,50000,45000,90000,88000]\n",
        "}\n",
        "\n",
        "# Convert the data into a pandas DataFrame\n",
        "df = pd.DataFrame(data)\n",
        "\n",
        "# Save the DataFrame as a CSV file\n",
        "df.to_csv('employee_data.csv', index=False)\n",
        "\n",
        "print(\"CSV file created successfully!\")\n"
      ],
      "metadata": {
        "colab": {
          "base_uri": "https://localhost:8080/"
        },
        "id": "PEAEGvLpEoAG",
        "outputId": "96a1c8e6-e44f-466b-f2ba-e6186c571fe6"
      },
      "execution_count": null,
      "outputs": [
        {
          "output_type": "stream",
          "name": "stdout",
          "text": [
            "CSV file created successfully!\n"
          ]
        }
      ]
    },
    {
      "cell_type": "code",
      "source": [
        "import pandas as pd\n",
        "\n",
        "# Define the data\n",
        "data = {\n",
        "    'Name': ['John Doe', 'Jane Smith', 'Michael Brown', 'ABCD', 'Harry', 'Supriya', 'Carrie'],\n",
        "    'Position': ['Software Engineer', 'Data Scientist', 'HR Manager', 'Data Analyst', 'Software Developer', 'CEO','HR'],\n",
        "    'Salary': [70000, 80000, 60000,50000,45000,90000,88000]\n",
        "}\n",
        "\n",
        "# Convert the data into a pandas DataFrame\n",
        "df = pd.DataFrame(data)\n",
        "\n",
        "# Save the DataFrame as a CSV file\n",
        "df.to_csv('/content/employee_data.csv', index=False)\n",
        "\n",
        "# To download the file\n",
        "from google.colab import files\n",
        "files.download('/content/employee_data.csv')\n"
      ],
      "metadata": {
        "colab": {
          "base_uri": "https://localhost:8080/",
          "height": 17
        },
        "id": "_QV-MScyFDIj",
        "outputId": "62ba0589-8433-4cce-aac5-1b58b6eb4c59"
      },
      "execution_count": null,
      "outputs": [
        {
          "output_type": "display_data",
          "data": {
            "text/plain": [
              "<IPython.core.display.Javascript object>"
            ],
            "application/javascript": [
              "\n",
              "    async function download(id, filename, size) {\n",
              "      if (!google.colab.kernel.accessAllowed) {\n",
              "        return;\n",
              "      }\n",
              "      const div = document.createElement('div');\n",
              "      const label = document.createElement('label');\n",
              "      label.textContent = `Downloading \"${filename}\": `;\n",
              "      div.appendChild(label);\n",
              "      const progress = document.createElement('progress');\n",
              "      progress.max = size;\n",
              "      div.appendChild(progress);\n",
              "      document.body.appendChild(div);\n",
              "\n",
              "      const buffers = [];\n",
              "      let downloaded = 0;\n",
              "\n",
              "      const channel = await google.colab.kernel.comms.open(id);\n",
              "      // Send a message to notify the kernel that we're ready.\n",
              "      channel.send({})\n",
              "\n",
              "      for await (const message of channel.messages) {\n",
              "        // Send a message to notify the kernel that we're ready.\n",
              "        channel.send({})\n",
              "        if (message.buffers) {\n",
              "          for (const buffer of message.buffers) {\n",
              "            buffers.push(buffer);\n",
              "            downloaded += buffer.byteLength;\n",
              "            progress.value = downloaded;\n",
              "          }\n",
              "        }\n",
              "      }\n",
              "      const blob = new Blob(buffers, {type: 'application/binary'});\n",
              "      const a = document.createElement('a');\n",
              "      a.href = window.URL.createObjectURL(blob);\n",
              "      a.download = filename;\n",
              "      div.appendChild(a);\n",
              "      a.click();\n",
              "      div.remove();\n",
              "    }\n",
              "  "
            ]
          },
          "metadata": {}
        },
        {
          "output_type": "display_data",
          "data": {
            "text/plain": [
              "<IPython.core.display.Javascript object>"
            ],
            "application/javascript": [
              "download(\"download_8a6426ae-d4e4-475a-bd24-12c2fa3cb564\", \"employee_data.csv\", 206)"
            ]
          },
          "metadata": {}
        }
      ]
    },
    {
      "cell_type": "code",
      "source": [
        "from google.colab import files\n",
        "uploaded = files.upload()\n"
      ],
      "metadata": {
        "colab": {
          "base_uri": "https://localhost:8080/",
          "height": 73
        },
        "id": "WaDMJPsNFUiC",
        "outputId": "b53b21d9-88ba-483e-e809-09578b205b10"
      },
      "execution_count": null,
      "outputs": [
        {
          "output_type": "display_data",
          "data": {
            "text/plain": [
              "<IPython.core.display.HTML object>"
            ],
            "text/html": [
              "\n",
              "     <input type=\"file\" id=\"files-0418426b-f584-456f-871d-83d00c4c42de\" name=\"files[]\" multiple disabled\n",
              "        style=\"border:none\" />\n",
              "     <output id=\"result-0418426b-f584-456f-871d-83d00c4c42de\">\n",
              "      Upload widget is only available when the cell has been executed in the\n",
              "      current browser session. Please rerun this cell to enable.\n",
              "      </output>\n",
              "      <script>// Copyright 2017 Google LLC\n",
              "//\n",
              "// Licensed under the Apache License, Version 2.0 (the \"License\");\n",
              "// you may not use this file except in compliance with the License.\n",
              "// You may obtain a copy of the License at\n",
              "//\n",
              "//      http://www.apache.org/licenses/LICENSE-2.0\n",
              "//\n",
              "// Unless required by applicable law or agreed to in writing, software\n",
              "// distributed under the License is distributed on an \"AS IS\" BASIS,\n",
              "// WITHOUT WARRANTIES OR CONDITIONS OF ANY KIND, either express or implied.\n",
              "// See the License for the specific language governing permissions and\n",
              "// limitations under the License.\n",
              "\n",
              "/**\n",
              " * @fileoverview Helpers for google.colab Python module.\n",
              " */\n",
              "(function(scope) {\n",
              "function span(text, styleAttributes = {}) {\n",
              "  const element = document.createElement('span');\n",
              "  element.textContent = text;\n",
              "  for (const key of Object.keys(styleAttributes)) {\n",
              "    element.style[key] = styleAttributes[key];\n",
              "  }\n",
              "  return element;\n",
              "}\n",
              "\n",
              "// Max number of bytes which will be uploaded at a time.\n",
              "const MAX_PAYLOAD_SIZE = 100 * 1024;\n",
              "\n",
              "function _uploadFiles(inputId, outputId) {\n",
              "  const steps = uploadFilesStep(inputId, outputId);\n",
              "  const outputElement = document.getElementById(outputId);\n",
              "  // Cache steps on the outputElement to make it available for the next call\n",
              "  // to uploadFilesContinue from Python.\n",
              "  outputElement.steps = steps;\n",
              "\n",
              "  return _uploadFilesContinue(outputId);\n",
              "}\n",
              "\n",
              "// This is roughly an async generator (not supported in the browser yet),\n",
              "// where there are multiple asynchronous steps and the Python side is going\n",
              "// to poll for completion of each step.\n",
              "// This uses a Promise to block the python side on completion of each step,\n",
              "// then passes the result of the previous step as the input to the next step.\n",
              "function _uploadFilesContinue(outputId) {\n",
              "  const outputElement = document.getElementById(outputId);\n",
              "  const steps = outputElement.steps;\n",
              "\n",
              "  const next = steps.next(outputElement.lastPromiseValue);\n",
              "  return Promise.resolve(next.value.promise).then((value) => {\n",
              "    // Cache the last promise value to make it available to the next\n",
              "    // step of the generator.\n",
              "    outputElement.lastPromiseValue = value;\n",
              "    return next.value.response;\n",
              "  });\n",
              "}\n",
              "\n",
              "/**\n",
              " * Generator function which is called between each async step of the upload\n",
              " * process.\n",
              " * @param {string} inputId Element ID of the input file picker element.\n",
              " * @param {string} outputId Element ID of the output display.\n",
              " * @return {!Iterable<!Object>} Iterable of next steps.\n",
              " */\n",
              "function* uploadFilesStep(inputId, outputId) {\n",
              "  const inputElement = document.getElementById(inputId);\n",
              "  inputElement.disabled = false;\n",
              "\n",
              "  const outputElement = document.getElementById(outputId);\n",
              "  outputElement.innerHTML = '';\n",
              "\n",
              "  const pickedPromise = new Promise((resolve) => {\n",
              "    inputElement.addEventListener('change', (e) => {\n",
              "      resolve(e.target.files);\n",
              "    });\n",
              "  });\n",
              "\n",
              "  const cancel = document.createElement('button');\n",
              "  inputElement.parentElement.appendChild(cancel);\n",
              "  cancel.textContent = 'Cancel upload';\n",
              "  const cancelPromise = new Promise((resolve) => {\n",
              "    cancel.onclick = () => {\n",
              "      resolve(null);\n",
              "    };\n",
              "  });\n",
              "\n",
              "  // Wait for the user to pick the files.\n",
              "  const files = yield {\n",
              "    promise: Promise.race([pickedPromise, cancelPromise]),\n",
              "    response: {\n",
              "      action: 'starting',\n",
              "    }\n",
              "  };\n",
              "\n",
              "  cancel.remove();\n",
              "\n",
              "  // Disable the input element since further picks are not allowed.\n",
              "  inputElement.disabled = true;\n",
              "\n",
              "  if (!files) {\n",
              "    return {\n",
              "      response: {\n",
              "        action: 'complete',\n",
              "      }\n",
              "    };\n",
              "  }\n",
              "\n",
              "  for (const file of files) {\n",
              "    const li = document.createElement('li');\n",
              "    li.append(span(file.name, {fontWeight: 'bold'}));\n",
              "    li.append(span(\n",
              "        `(${file.type || 'n/a'}) - ${file.size} bytes, ` +\n",
              "        `last modified: ${\n",
              "            file.lastModifiedDate ? file.lastModifiedDate.toLocaleDateString() :\n",
              "                                    'n/a'} - `));\n",
              "    const percent = span('0% done');\n",
              "    li.appendChild(percent);\n",
              "\n",
              "    outputElement.appendChild(li);\n",
              "\n",
              "    const fileDataPromise = new Promise((resolve) => {\n",
              "      const reader = new FileReader();\n",
              "      reader.onload = (e) => {\n",
              "        resolve(e.target.result);\n",
              "      };\n",
              "      reader.readAsArrayBuffer(file);\n",
              "    });\n",
              "    // Wait for the data to be ready.\n",
              "    let fileData = yield {\n",
              "      promise: fileDataPromise,\n",
              "      response: {\n",
              "        action: 'continue',\n",
              "      }\n",
              "    };\n",
              "\n",
              "    // Use a chunked sending to avoid message size limits. See b/62115660.\n",
              "    let position = 0;\n",
              "    do {\n",
              "      const length = Math.min(fileData.byteLength - position, MAX_PAYLOAD_SIZE);\n",
              "      const chunk = new Uint8Array(fileData, position, length);\n",
              "      position += length;\n",
              "\n",
              "      const base64 = btoa(String.fromCharCode.apply(null, chunk));\n",
              "      yield {\n",
              "        response: {\n",
              "          action: 'append',\n",
              "          file: file.name,\n",
              "          data: base64,\n",
              "        },\n",
              "      };\n",
              "\n",
              "      let percentDone = fileData.byteLength === 0 ?\n",
              "          100 :\n",
              "          Math.round((position / fileData.byteLength) * 100);\n",
              "      percent.textContent = `${percentDone}% done`;\n",
              "\n",
              "    } while (position < fileData.byteLength);\n",
              "  }\n",
              "\n",
              "  // All done.\n",
              "  yield {\n",
              "    response: {\n",
              "      action: 'complete',\n",
              "    }\n",
              "  };\n",
              "}\n",
              "\n",
              "scope.google = scope.google || {};\n",
              "scope.google.colab = scope.google.colab || {};\n",
              "scope.google.colab._files = {\n",
              "  _uploadFiles,\n",
              "  _uploadFilesContinue,\n",
              "};\n",
              "})(self);\n",
              "</script> "
            ]
          },
          "metadata": {}
        },
        {
          "output_type": "stream",
          "name": "stdout",
          "text": [
            "Saving employee_data.csv to employee_data (1).csv\n"
          ]
        }
      ]
    },
    {
      "cell_type": "code",
      "source": [
        "def load_employee_data(file_path):\n",
        "    try:\n",
        "        employee_data = pd.read_csv(file_path)\n",
        "        required_columns = ['Name', 'Position', 'Salary']\n",
        "\n",
        "        if not all(col in employee_data.columns for col in required_columns):\n",
        "            raise ValueError(\"Missing required columns in the CSV file.\")\n",
        "\n",
        "        print(f\"Employee data loaded successfully from {file_path}\")\n",
        "        return employee_data\n",
        "    except Exception as e:\n",
        "        print(f\"Error loading employee data: {e}\")\n",
        "        return None\n"
      ],
      "metadata": {
        "id": "-NzVcbhAFaDC"
      },
      "execution_count": null,
      "outputs": []
    },
    {
      "cell_type": "code",
      "source": [
        "!apt-get install -y python3-xlib\n",
        "!pip install pyvirtualdisplay\n",
        "!pip install pyautogui\n"
      ],
      "metadata": {
        "colab": {
          "base_uri": "https://localhost:8080/"
        },
        "id": "S-IC0c8VFdTX",
        "outputId": "7c22a960-8b33-4b48-bb03-77c8ccd8108c"
      },
      "execution_count": null,
      "outputs": [
        {
          "output_type": "stream",
          "name": "stdout",
          "text": [
            "Reading package lists... Done\n",
            "Building dependency tree... Done\n",
            "Reading state information... Done\n",
            "The following NEW packages will be installed:\n",
            "  python3-xlib\n",
            "0 upgraded, 1 newly installed, 0 to remove and 34 not upgraded.\n",
            "Need to get 149 kB of archives.\n",
            "After this operation, 1,004 kB of additional disk space will be used.\n",
            "Get:1 http://archive.ubuntu.com/ubuntu jammy/universe amd64 python3-xlib all 0.29-1 [149 kB]\n",
            "Fetched 149 kB in 1s (260 kB/s)\n",
            "Selecting previously unselected package python3-xlib.\n",
            "(Reading database ... 126101 files and directories currently installed.)\n",
            "Preparing to unpack .../python3-xlib_0.29-1_all.deb ...\n",
            "Unpacking python3-xlib (0.29-1) ...\n",
            "Setting up python3-xlib (0.29-1) ...\n",
            "Collecting pyvirtualdisplay\n",
            "  Downloading PyVirtualDisplay-3.0-py3-none-any.whl.metadata (943 bytes)\n",
            "Downloading PyVirtualDisplay-3.0-py3-none-any.whl (15 kB)\n",
            "Installing collected packages: pyvirtualdisplay\n",
            "Successfully installed pyvirtualdisplay-3.0\n",
            "Requirement already satisfied: pyautogui in /usr/local/lib/python3.11/dist-packages (0.9.54)\n",
            "Requirement already satisfied: python3-Xlib in /usr/local/lib/python3.11/dist-packages (from pyautogui) (0.15)\n",
            "Requirement already satisfied: pymsgbox in /usr/local/lib/python3.11/dist-packages (from pyautogui) (1.0.9)\n",
            "Requirement already satisfied: pytweening>=1.0.4 in /usr/local/lib/python3.11/dist-packages (from pyautogui) (1.2.0)\n",
            "Requirement already satisfied: pyscreeze>=0.1.21 in /usr/local/lib/python3.11/dist-packages (from pyautogui) (1.0.1)\n",
            "Requirement already satisfied: pygetwindow>=0.0.5 in /usr/local/lib/python3.11/dist-packages (from pyautogui) (0.0.9)\n",
            "Requirement already satisfied: mouseinfo in /usr/local/lib/python3.11/dist-packages (from pyautogui) (0.1.3)\n",
            "Requirement already satisfied: pyrect in /usr/local/lib/python3.11/dist-packages (from pygetwindow>=0.0.5->pyautogui) (0.2.0)\n",
            "Requirement already satisfied: Pillow>=9.3.0 in /usr/local/lib/python3.11/dist-packages (from pyscreeze>=0.1.21->pyautogui) (11.2.1)\n",
            "Requirement already satisfied: pyperclip in /usr/local/lib/python3.11/dist-packages (from mouseinfo->pyautogui) (1.9.0)\n"
          ]
        }
      ]
    },
    {
      "cell_type": "code",
      "source": [
        "pip install pyautogui pandas python-docx\n"
      ],
      "metadata": {
        "colab": {
          "base_uri": "https://localhost:8080/"
        },
        "id": "5t6BvQYgFxhq",
        "outputId": "b9f69205-b682-45c6-d25d-e5e45769e268"
      },
      "execution_count": null,
      "outputs": [
        {
          "output_type": "stream",
          "name": "stdout",
          "text": [
            "Collecting pyautogui\n",
            "  Downloading PyAutoGUI-0.9.54.tar.gz (61 kB)\n",
            "\u001b[?25l     \u001b[90m━━━━━━━━━━━━━━━━━━━━━━━━━━━━━━━━━━━━━━━━\u001b[0m \u001b[32m0.0/61.2 kB\u001b[0m \u001b[31m?\u001b[0m eta \u001b[36m-:--:--\u001b[0m\r\u001b[2K     \u001b[90m━━━━━━━━━━━━━━━━━━━━━━━━━━━━━━━━━━━━━━━━\u001b[0m \u001b[32m61.2/61.2 kB\u001b[0m \u001b[31m2.0 MB/s\u001b[0m eta \u001b[36m0:00:00\u001b[0m\n",
            "\u001b[?25h  Installing build dependencies ... \u001b[?25l\u001b[?25hdone\n",
            "  Getting requirements to build wheel ... \u001b[?25l\u001b[?25hdone\n",
            "  Preparing metadata (pyproject.toml) ... \u001b[?25l\u001b[?25hdone\n",
            "Requirement already satisfied: pandas in /usr/local/lib/python3.11/dist-packages (2.2.2)\n",
            "Collecting python-docx\n",
            "  Downloading python_docx-1.1.2-py3-none-any.whl.metadata (2.0 kB)\n",
            "Collecting python3-Xlib (from pyautogui)\n",
            "  Downloading python3-xlib-0.15.tar.gz (132 kB)\n",
            "\u001b[2K     \u001b[90m━━━━━━━━━━━━━━━━━━━━━━━━━━━━━━━━━━━━━━━\u001b[0m \u001b[32m132.8/132.8 kB\u001b[0m \u001b[31m5.1 MB/s\u001b[0m eta \u001b[36m0:00:00\u001b[0m\n",
            "\u001b[?25h  Preparing metadata (setup.py) ... \u001b[?25l\u001b[?25hdone\n",
            "Collecting pymsgbox (from pyautogui)\n",
            "  Downloading PyMsgBox-1.0.9.tar.gz (18 kB)\n",
            "  Installing build dependencies ... \u001b[?25l\u001b[?25hdone\n",
            "  Getting requirements to build wheel ... \u001b[?25l\u001b[?25hdone\n",
            "  Preparing metadata (pyproject.toml) ... \u001b[?25l\u001b[?25hdone\n",
            "Collecting pytweening>=1.0.4 (from pyautogui)\n",
            "  Downloading pytweening-1.2.0.tar.gz (171 kB)\n",
            "\u001b[2K     \u001b[90m━━━━━━━━━━━━━━━━━━━━━━━━━━━━━━━━━━━━━━\u001b[0m \u001b[32m171.2/171.2 kB\u001b[0m \u001b[31m11.8 MB/s\u001b[0m eta \u001b[36m0:00:00\u001b[0m\n",
            "\u001b[?25h  Preparing metadata (setup.py) ... \u001b[?25l\u001b[?25hdone\n",
            "Collecting pyscreeze>=0.1.21 (from pyautogui)\n",
            "  Downloading pyscreeze-1.0.1.tar.gz (27 kB)\n",
            "  Installing build dependencies ... \u001b[?25l\u001b[?25hdone\n",
            "  Getting requirements to build wheel ... \u001b[?25l\u001b[?25hdone\n",
            "  Preparing metadata (pyproject.toml) ... \u001b[?25l\u001b[?25hdone\n",
            "Collecting pygetwindow>=0.0.5 (from pyautogui)\n",
            "  Downloading PyGetWindow-0.0.9.tar.gz (9.7 kB)\n",
            "  Preparing metadata (setup.py) ... \u001b[?25l\u001b[?25hdone\n",
            "Collecting mouseinfo (from pyautogui)\n",
            "  Downloading MouseInfo-0.1.3.tar.gz (10 kB)\n",
            "  Preparing metadata (setup.py) ... \u001b[?25l\u001b[?25hdone\n",
            "Requirement already satisfied: numpy>=1.23.2 in /usr/local/lib/python3.11/dist-packages (from pandas) (2.0.2)\n",
            "Requirement already satisfied: python-dateutil>=2.8.2 in /usr/local/lib/python3.11/dist-packages (from pandas) (2.9.0.post0)\n",
            "Requirement already satisfied: pytz>=2020.1 in /usr/local/lib/python3.11/dist-packages (from pandas) (2025.2)\n",
            "Requirement already satisfied: tzdata>=2022.7 in /usr/local/lib/python3.11/dist-packages (from pandas) (2025.2)\n",
            "Requirement already satisfied: lxml>=3.1.0 in /usr/local/lib/python3.11/dist-packages (from python-docx) (5.4.0)\n",
            "Requirement already satisfied: typing-extensions>=4.9.0 in /usr/local/lib/python3.11/dist-packages (from python-docx) (4.13.2)\n",
            "Collecting pyrect (from pygetwindow>=0.0.5->pyautogui)\n",
            "  Downloading PyRect-0.2.0.tar.gz (17 kB)\n",
            "  Preparing metadata (setup.py) ... \u001b[?25l\u001b[?25hdone\n",
            "Requirement already satisfied: Pillow>=9.3.0 in /usr/local/lib/python3.11/dist-packages (from pyscreeze>=0.1.21->pyautogui) (11.2.1)\n",
            "Requirement already satisfied: six>=1.5 in /usr/local/lib/python3.11/dist-packages (from python-dateutil>=2.8.2->pandas) (1.17.0)\n",
            "Requirement already satisfied: pyperclip in /usr/local/lib/python3.11/dist-packages (from mouseinfo->pyautogui) (1.9.0)\n",
            "Downloading python_docx-1.1.2-py3-none-any.whl (244 kB)\n",
            "\u001b[2K   \u001b[90m━━━━━━━━━━━━━━━━━━━━━━━━━━━━━━━━━━━━━━━━\u001b[0m \u001b[32m244.3/244.3 kB\u001b[0m \u001b[31m11.3 MB/s\u001b[0m eta \u001b[36m0:00:00\u001b[0m\n",
            "\u001b[?25hBuilding wheels for collected packages: pyautogui, pygetwindow, pyscreeze, pytweening, mouseinfo, pymsgbox, python3-Xlib, pyrect\n",
            "  Building wheel for pyautogui (pyproject.toml) ... \u001b[?25l\u001b[?25hdone\n",
            "  Created wheel for pyautogui: filename=pyautogui-0.9.54-py3-none-any.whl size=37684 sha256=785402562f7e322f7ba87a63a1999b72f093d6864b75f334c7fa18f2488bdae6\n",
            "  Stored in directory: /root/.cache/pip/wheels/95/dc/b1/fe122b791e0db8bf439a0e6e1d2628e48f10bf430cae13521b\n",
            "  Building wheel for pygetwindow (setup.py) ... \u001b[?25l\u001b[?25hdone\n",
            "  Created wheel for pygetwindow: filename=PyGetWindow-0.0.9-py3-none-any.whl size=11063 sha256=9cefb15feabc8967f8f22aa8b2fe41bf8a016c84da85cc3467bc594656cafdf6\n",
            "  Stored in directory: /root/.cache/pip/wheels/07/75/0b/7ca0b598eb4c21d43ba4bcc78a0538dfcf803a5997da33bc19\n",
            "  Building wheel for pyscreeze (pyproject.toml) ... \u001b[?25l\u001b[?25hdone\n",
            "  Created wheel for pyscreeze: filename=pyscreeze-1.0.1-py3-none-any.whl size=14457 sha256=32a6af2eb072bfef6a353dc537a8c90a7d269b9dad4f68d1cfcad391d0554ce8\n",
            "  Stored in directory: /root/.cache/pip/wheels/cd/e3/dd/267b393d8e8f607e47194942740d080d9bfd835cd4375a3de1\n",
            "  Building wheel for pytweening (setup.py) ... \u001b[?25l\u001b[?25hdone\n",
            "  Created wheel for pytweening: filename=pytweening-1.2.0-py3-none-any.whl size=8009 sha256=ac29aaa0e801fe60a663f3931a80e10934c4492d03e66e696d5b5fd99002c6f9\n",
            "  Stored in directory: /root/.cache/pip/wheels/db/81/dc/0d61a3c9614f288e057ab63924e2a49edbeed4ffc916dcda1e\n",
            "  Building wheel for mouseinfo (setup.py) ... \u001b[?25l\u001b[?25hdone\n",
            "  Created wheel for mouseinfo: filename=MouseInfo-0.1.3-py3-none-any.whl size=10888 sha256=108b6c7a4953bf1f277af95cd27e74f846631acb38ca13c4c24914962f7b4827\n",
            "  Stored in directory: /root/.cache/pip/wheels/20/0b/7f/939ac9ff785b09951c706150537572c00123412f260a6024f3\n",
            "  Building wheel for pymsgbox (pyproject.toml) ... \u001b[?25l\u001b[?25hdone\n",
            "  Created wheel for pymsgbox: filename=pymsgbox-1.0.9-py3-none-any.whl size=7450 sha256=c7bbd4d9c624962a711f526cf049ad04b34ce16738b5484a41ab91f6663044f4\n",
            "  Stored in directory: /root/.cache/pip/wheels/85/92/63/e126ee5f33d8f2ed04f96e43ef5df7270a2f331848752e8662\n",
            "  Building wheel for python3-Xlib (setup.py) ... \u001b[?25l\u001b[?25hdone\n",
            "  Created wheel for python3-Xlib: filename=python3_xlib-0.15-py3-none-any.whl size=109501 sha256=43f08da8ae4304a22500c3f93ccdf7210ec72f7d66b9e83f4029c00508795c1c\n",
            "  Stored in directory: /root/.cache/pip/wheels/58/d2/1b/c2247396a6c5fbb1900ccf1ec3b73482d428b137dcdf1d99de\n",
            "  Building wheel for pyrect (setup.py) ... \u001b[?25l\u001b[?25hdone\n",
            "  Created wheel for pyrect: filename=PyRect-0.2.0-py2.py3-none-any.whl size=11181 sha256=41e948ab430af00d783f5cc044f0334a211731f2e294756cdeb1b64871be02ae\n",
            "  Stored in directory: /root/.cache/pip/wheels/c4/e9/fc/b7a666dd4f9a3168fb44d643079b41d36ddab52f470707e820\n",
            "Successfully built pyautogui pygetwindow pyscreeze pytweening mouseinfo pymsgbox python3-Xlib pyrect\n",
            "Installing collected packages: pytweening, python3-Xlib, pyrect, pymsgbox, python-docx, pyscreeze, pygetwindow, mouseinfo, pyautogui\n",
            "Successfully installed mouseinfo-0.1.3 pyautogui-0.9.54 pygetwindow-0.0.9 pymsgbox-1.0.9 pyrect-0.2.0 pyscreeze-1.0.1 python-docx-1.1.2 python3-Xlib-0.15 pytweening-1.2.0\n"
          ]
        }
      ]
    },
    {
      "cell_type": "code",
      "source": [
        "def load_employee_data(file_path):\n",
        "    try:\n",
        "        employee_data = pd.read_csv(file_path)\n",
        "        required_columns = ['Name', 'Position', 'Salary']\n",
        "\n",
        "        if not all(col in employee_data.columns for col in required_columns):\n",
        "            raise ValueError(\"Missing required columns in the CSV file.\")\n",
        "\n",
        "        print(f\"Employee data loaded successfully from {file_path}\")\n",
        "        return employee_data\n",
        "    except Exception as e:\n",
        "        print(f\"Error loading employee data: {e}\")\n",
        "        return None\n"
      ],
      "metadata": {
        "id": "5rXlGu00GHYN"
      },
      "execution_count": null,
      "outputs": []
    },
    {
      "cell_type": "code",
      "source": [
        "import pandas as pd\n",
        "from docx import Document\n",
        "\n",
        "# Sample candidate data\n",
        "candidates = [\n",
        "    {\n",
        "        \"Name\": \"Srijith M\",\n",
        "        \"Position\": \"Data Analyst\",\n",
        "        \"StartDate\": \"2025-06-01\",\n",
        "        \"Salary\": 65000\n",
        "    },\n",
        "    {\n",
        "        \"Name\": \"Aisha Roy\",\n",
        "        \"Position\": \"Software Engineer\",\n",
        "        \"StartDate\": \"2025-07-15\",\n",
        "        \"Salary\": 75000\n",
        "    }\n",
        "]\n",
        "\n",
        "# Function to generate offer letter with inbuilt text\n",
        "def generate_offer_letter(candidate):\n",
        "    try:\n",
        "        # Create a new Word document\n",
        "        doc = Document()\n",
        "        doc.add_paragraph(f\"Dear {candidate['Name']},\")\n",
        "        doc.add_paragraph(\"\")\n",
        "        doc.add_paragraph(\n",
        "            f\"We are pleased to offer you the position of {candidate['Position']} at our company, \"\n",
        "            f\"starting on {candidate['StartDate']}. Your starting salary will be {candidate['Salary']} per annum.\"\n",
        "        )\n",
        "        doc.add_paragraph(\"\")\n",
        "        doc.add_paragraph(\"We look forward to working with you.\")\n",
        "        doc.add_paragraph(\"\")\n",
        "        doc.add_paragraph(\"Sincerely,\\nHR Team\")\n",
        "\n",
        "        # Save the document\n",
        "        filename = f\"Offer_Letter_{candidate['Name'].replace(' ', '_')}.docx\"\n",
        "        doc.save(filename)\n",
        "        print(f\"✅ Offer letter generated for: {candidate['Name']} ({filename})\")\n",
        "\n",
        "    except Exception as e:\n",
        "        print(f\"❌ Error generating letter for {candidate['Name']}: {e}\")\n",
        "\n",
        "# Generate offer letters\n",
        "for candidate in candidates:\n",
        "    generate_offer_letter(candidate)\n"
      ],
      "metadata": {
        "colab": {
          "base_uri": "https://localhost:8080/"
        },
        "id": "WZ7gMm2yz4Qu",
        "outputId": "35575dc7-2b08-42a0-85ea-1b3c02703331"
      },
      "execution_count": null,
      "outputs": [
        {
          "output_type": "stream",
          "name": "stdout",
          "text": [
            "✅ Offer letter generated for: Srijith M (Offer_Letter_Srijith_M.docx)\n",
            "✅ Offer letter generated for: Aisha Roy (Offer_Letter_Aisha_Roy.docx)\n"
          ]
        }
      ]
    }
  ]
}